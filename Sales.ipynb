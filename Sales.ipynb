{
 "cells": [
  {
   "cell_type": "markdown",
   "metadata": {},
   "source": [
    "Your name: Han Tran\n",
    "\n",
    "Your matriculation number: 2001708"
   ]
  },
  {
   "cell_type": "markdown",
   "metadata": {},
   "source": [
    "# QUESTION 1: \n",
    "In the lecture an example case of analysing the Movielense data was presented focusing on identifying the differences in highly rated movies based on females’ and males’ ratings. In this exercise you need to perform similar analysis but focusing on the variable age. You need to perform the following steps:"
   ]
  },
  {
   "cell_type": "code",
   "execution_count": null,
   "metadata": {},
   "outputs": [],
   "source": [
    "# Merge the three datasets (users, ratings, movies) the same way as it was done in the lecture example.\n",
    "import pandas as pd\n",
    "\n",
    "unames = ['user_id', 'gender', 'age', 'occupation', 'zip']\n",
    "users = pd.read_csv('users.dat', sep = '::',\n",
    "                      header = None, names=unames)\n",
    "users.head()\n",
    "# Filter the resulting dataframe to keep ratings only from users who have at least 100 ratings available\n",
    "\n",
    "# Filter the resulting dataframe to include information only on movies that have at least 200 ratings and that have genre ’Drama’ or ’Comedy.\n",
    "\n",
    "# Discretize the age column into three groups: (a) less than 22 years old, (b) between 22 and 33 years old, (b) between 33 and 42 years old, (d) older than 42 years.\n",
    "\n",
    "# Determine and print the top 5 highest rated movies for the four groups separately.\n",
    "\n",
    "# Count the number of movies that appear in the top 100 highest rated movies for all the age groups.• Merge the three datasets (users, ratings, movies) the same way as it was done in the lecture example.\n",
    "\n",
    "# Filter the resulting dataframe to keep ratings only from users who have at least 100 ratings available\n",
    "\n",
    "# Filter the resulting dataframe to include information only on movies that have at least 200 ratings and that have genre ’Drama’ or ’Comedy.\n",
    "\n",
    "# Discretize the age column into three groups: (a) less than 22 years old, (b) between 22 and 33 years old, (b) between 33 and 42 years old, (d) older than 42 years.\n",
    "\n",
    "# Determine and print the top 5 highest rated movies for the four groups separately.\n",
    "\n",
    "# Count the number of movies that appear in the top 100 highest rated movies for all the age groups."
   ]
  },
  {
   "cell_type": "code",
   "execution_count": null,
   "metadata": {},
   "outputs": [],
   "source": []
  },
  {
   "cell_type": "code",
   "execution_count": null,
   "metadata": {},
   "outputs": [],
   "source": []
  },
  {
   "cell_type": "code",
   "execution_count": null,
   "metadata": {},
   "outputs": [],
   "source": []
  },
  {
   "cell_type": "markdown",
   "metadata": {},
   "source": [
    "# QUESTION 2: \n",
    "In this exercise you have to work with the data found in the file ’Credit.csv’. In the dataset you can find the following variables:\n",
    "(a) Income\n",
    "(b) Limit (credit limit of the person)\n",
    "(c) Rating (credit rating)\n",
    "(d) Cards (number of credit cards used by the person)\n",
    "(e) Age\n",
    "(f) Gender\n",
    "(g) Student (whether the person is a student or not) (h) Married (whether the person is married or not)\n",
    "(i) Ethnicity\n",
    "(j) Balance (positive values mean that the person has outstanding credit balance)"
   ]
  },
  {
   "cell_type": "code",
   "execution_count": null,
   "metadata": {},
   "outputs": [],
   "source": [
    "import numpy as np\n",
    "import pandas as pd\n",
    "import matplotlib.pyplot as plt\n",
    "import seaborn as sns"
   ]
  },
  {
   "cell_type": "code",
   "execution_count": null,
   "metadata": {},
   "outputs": [],
   "source": []
  },
  {
   "cell_type": "markdown",
   "metadata": {},
   "source": [
    "# QUESTION 3:\n",
    "In this exercise, you will have to continue working the the Credit dataset, and prepare it for further modeling through the following steps."
   ]
  },
  {
   "cell_type": "code",
   "execution_count": null,
   "metadata": {},
   "outputs": [],
   "source": []
  },
  {
   "cell_type": "code",
   "execution_count": null,
   "metadata": {},
   "outputs": [],
   "source": []
  },
  {
   "cell_type": "code",
   "execution_count": null,
   "metadata": {},
   "outputs": [],
   "source": []
  }
 ],
 "metadata": {
  "kernelspec": {
   "display_name": "Python 3",
   "language": "python",
   "name": "python3"
  },
  "language_info": {
   "codemirror_mode": {
    "name": "ipython",
    "version": 3
   },
   "file_extension": ".py",
   "mimetype": "text/x-python",
   "name": "python",
   "nbconvert_exporter": "python",
   "pygments_lexer": "ipython3",
   "version": "3.8.3"
  }
 },
 "nbformat": 4,
 "nbformat_minor": 4
}
