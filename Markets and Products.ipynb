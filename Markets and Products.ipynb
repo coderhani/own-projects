{
 "cells": [
  {
   "cell_type": "markdown",
   "metadata": {},
   "source": [
    "HAN TRAN ---\n",
    " 2001708"
   ]
  },
  {
   "cell_type": "markdown",
   "metadata": {},
   "source": [
    "# Question 1:"
   ]
  },
  {
   "cell_type": "code",
   "execution_count": null,
   "metadata": {},
   "outputs": [],
   "source": [
    "import numpy as np\n",
    "import pandas as pd\n",
    "import matplotlib.pyplot as plt\n",
    "import seaborn as sns\n",
    "import mlxtend.preprocessing\n",
    "import mlxtend.frequent_patterns\n",
    "import networkx as nx\n",
    "import pyvis\n",
    "import networkx.algorithms.community as nx_comm"
   ]
  },
  {
   "cell_type": "code",
   "execution_count": null,
   "metadata": {},
   "outputs": [],
   "source": [
    "grocery_data = pd.read_csv('grocery_assignment.csv')\n",
    "grocery_data"
   ]
  },
  {
   "cell_type": "code",
   "execution_count": null,
   "metadata": {},
   "outputs": [],
   "source": [
    "#check the type of dataset\n",
    "grocery_data.info()"
   ]
  },
  {
   "cell_type": "code",
   "execution_count": null,
   "metadata": {},
   "outputs": [],
   "source": [
    "# TRansform the dataset into transactional format\n",
    "#First, I will create a list of item description list base on the transaction_id\n",
    "transaction = grocery_data.groupby(['transaction_id'])['itemDescription'].apply(list).values.tolist()\n",
    "print(transaction[:2])"
   ]
  },
  {
   "cell_type": "code",
   "execution_count": null,
   "metadata": {},
   "outputs": [],
   "source": [
    "# OR\n",
    "transaction = grocery_data.groupby(['transaction_id'])['itemDescription'].apply(list).values.tolist()\n",
    "transaction"
   ]
  },
  {
   "cell_type": "code",
   "execution_count": null,
   "metadata": {},
   "outputs": [],
   "source": [
    "# Import the transaction encoder function from mlxtend\n",
    "from mlxtend.preprocessing import TransactionEncoder\n",
    "\n",
    "# Instantiate transaction encoder and identify unique items\n",
    "encoder = TransactionEncoder().fit (transaction)\n",
    "\n",
    "# One-hot encode transactions\n",
    "encoded_data = encoder.transform (transaction)\n",
    "\n",
    "# Convert one-hot encoded data to DataFrame\n",
    "grocery_trans = pd.DataFrame (encoded_data, columns = encoder.columns_)\n",
    "\n",
    "# Print the one-hot encoded transaction dataset\n",
    "print(grocery_trans.head())"
   ]
  },
  {
   "cell_type": "code",
   "execution_count": null,
   "metadata": {},
   "outputs": [],
   "source": [
    "# Check size of data\n",
    "grocery_trans.shape"
   ]
  },
  {
   "cell_type": "markdown",
   "metadata": {},
   "source": [
    "Extract frequent item-sets and create association rules "
   ]
  },
  {
   "cell_type": "code",
   "execution_count": null,
   "metadata": {},
   "outputs": [],
   "source": [
    "# The most frequent itemset \n",
    "grocery_trans.sum().sort_values(ascending = False)"
   ]
  },
  {
   "cell_type": "code",
   "execution_count": null,
   "metadata": {},
   "outputs": [],
   "source": [
    "# I try the max_len=3, min_support=0.002\n",
    "frequent_grocery_sets = mlxtend.frequent_patterns.apriori(grocery_trans, min_support = 0.002, max_len = 3, use_colnames = True)"
   ]
  },
  {
   "cell_type": "code",
   "execution_count": null,
   "metadata": {},
   "outputs": [],
   "source": [
    "frequent_grocery_sets['item_len'] = frequent_grocery_sets['itemsets'].apply(len)\n",
    "frequent_grocery_sets[frequent_grocery_sets['item_len'] == 3]"
   ]
  },
  {
   "cell_type": "code",
   "execution_count": null,
   "metadata": {},
   "outputs": [],
   "source": [
    "print(frequent_grocery_sets.head())\n",
    "len(frequent_grocery_sets)\n",
    "# with this min_support 0.002 and max len=3, we have 330 itemsets"
   ]
  },
  {
   "cell_type": "code",
   "execution_count": null,
   "metadata": {},
   "outputs": [],
   "source": [
    "#With max_len=4, min_support=0.01\n",
    "frequent_grocery_set_1=mlxtend.frequent_patterns.apriori(grocery_trans, max_len=4, min_support=0.01, use_colnames=True)\n",
    "print(frequent_grocery_set_1)\n",
    "len(frequent_grocery_set_1)\n",
    "#with this, we have itemsets in return\n"
   ]
  },
  {
   "cell_type": "code",
   "execution_count": null,
   "metadata": {},
   "outputs": [],
   "source": [
    "#With max_len=4, min_support=0.02\n",
    "frequent_grocery_set_2=mlxtend.frequent_patterns.apriori(grocery_trans, max_len=4, min_support=0.02, use_colnames=True)\n",
    "print(frequent_grocery_set_2)\n",
    "len(frequent_grocery_set_2)\n",
    "#with this, we have itemsets in return"
   ]
  },
  {
   "cell_type": "code",
   "execution_count": null,
   "metadata": {},
   "outputs": [],
   "source": [
    "#With max_len=4, min_support=0.005\n",
    "frequent_grocery_set_3=mlxtend.frequent_patterns.apriori(grocery_trans, max_len=4, min_support=0.005, use_colnames=True)\n",
    "print(frequent_grocery_set_3)\n",
    "len(frequent_grocery_set_3)\n",
    "#with this, we have itemsets in return"
   ]
  },
  {
   "cell_type": "code",
   "execution_count": null,
   "metadata": {},
   "outputs": [],
   "source": [
    "#With max_len=3, min_support=0.05\n",
    "frequent_grocery_set_4=mlxtend.frequent_patterns.apriori(grocery_trans, max_len=4, min_support=0.005, use_colnames=True)\n",
    "print(frequent_grocery_set_4)\n",
    "len(frequent_grocery_set_4)\n",
    "#with this, we have itemsets in return"
   ]
  },
  {
   "cell_type": "code",
   "execution_count": null,
   "metadata": {},
   "outputs": [],
   "source": [
    "#create association rules as it was done \n",
    "# Begin with the threshold=0.09\n",
    "rule_1=mlxtend.frequent_patterns.association_rules(frequent_grocery_set_3, metric='confidence', min_threshold=0.09)\n",
    "rule_1"
   ]
  },
  {
   "cell_type": "code",
   "execution_count": null,
   "metadata": {},
   "outputs": [],
   "source": [
    "# With min_threshold=0.02\n",
    "rule_2= mlxtend.frequent_patterns.association_rules(frequent_grocery_set_3, metric='confidence', min_threshold=0.002)\n",
    "rule_2\n",
    "#This threshold seems to provide a more reasonable amount of dataset "
   ]
  },
  {
   "cell_type": "code",
   "execution_count": null,
   "metadata": {},
   "outputs": [],
   "source": [
    "rule_2[['antecedents', 'consequents']]"
   ]
  },
  {
   "cell_type": "markdown",
   "metadata": {},
   "source": [
    "Do the extracted rules"
   ]
  },
  {
   "cell_type": "code",
   "execution_count": null,
   "metadata": {},
   "outputs": [],
   "source": [
    " #what would you recommend to a person (i.e. what is the consequent in association rules terminology) when you now that in the basket there is already (i) sausage, (\n",
    "Recommendation_1 = rule_2['antecedents'].apply(lambda x: 'sausage' in x)\n",
    "rule_2[Recommendation_1]"
   ]
  },
  {
   "cell_type": "code",
   "execution_count": null,
   "metadata": {},
   "outputs": [],
   "source": [
    "#Or we can filter like this\n",
    "Recommendation= rule_2[(rule_2['antecedents']=={'sausage'})]\n",
    "Recommendation\n",
    "# below (consequents) is the possible items that a customer might buy after taking the sausage"
   ]
  },
  {
   "cell_type": "code",
   "execution_count": null,
   "metadata": {},
   "outputs": [],
   "source": [
    "#what would you recommend when you now that in the basket there is already(ii) tropical fruit,\n",
    "Fruit_Recommendation= rule_2['antecedents'].apply(lambda x: 'tropical fruit' in x)\n",
    "rule_2[Fruit_Recommendation]\n",
    "# below (consequents) is the possible items that a customer might buy after taking the tropical fruit"
   ]
  },
  {
   "cell_type": "code",
   "execution_count": null,
   "metadata": {},
   "outputs": [],
   "source": [
    "#what would you recommend to a person when there is (iii) sausage AND tropical fruit?\n",
    "Recommendation_Sausage_Fruit= rule_2['antecedents'].apply(lambda x: 'sausage ' in x and 'tropical fruit' in x)\n",
    "rule_2[Recommendation_Sausage_Fruit]"
   ]
  },
  {
   "cell_type": "code",
   "execution_count": null,
   "metadata": {},
   "outputs": [],
   "source": [
    "# As there is no assiocation rules for those who bought sausage and tropical fruit at the same time, I check the unique value for rule 2\n",
    "# And we can see from the array, there's no records for those who buy sausage and tropical fruit at the same time.\n",
    "#therefore, there's no recommendation in this case\n",
    "rule_2.antecedents.unique()"
   ]
  },
  {
   "cell_type": "markdown",
   "metadata": {},
   "source": [
    "# QUESTION 2"
   ]
  },
  {
   "cell_type": "code",
   "execution_count": 3,
   "metadata": {},
   "outputs": [],
   "source": [
    "# Start with the important libraries\n",
    "\n",
    "import numpy as np\n",
    "import pandas as pd\n",
    "import matplotlib.pyplot as plt\n",
    "import seaborn as sns\n",
    "\n",
    "# Importing the new library for network analysis\n",
    "import networkx as nx"
   ]
  },
  {
   "cell_type": "code",
   "execution_count": 4,
   "metadata": {},
   "outputs": [
    {
     "data": {
      "text/html": [
       "<div>\n",
       "<style scoped>\n",
       "    .dataframe tbody tr th:only-of-type {\n",
       "        vertical-align: middle;\n",
       "    }\n",
       "\n",
       "    .dataframe tbody tr th {\n",
       "        vertical-align: top;\n",
       "    }\n",
       "\n",
       "    .dataframe thead th {\n",
       "        text-align: right;\n",
       "    }\n",
       "</style>\n",
       "<table border=\"1\" class=\"dataframe\">\n",
       "  <thead>\n",
       "    <tr style=\"text-align: right;\">\n",
       "      <th></th>\n",
       "      <th>id</th>\n",
       "      <th>name</th>\n",
       "      <th>bio</th>\n",
       "      <th>Gender</th>\n",
       "      <th>Job</th>\n",
       "      <th>House</th>\n",
       "      <th>Wand</th>\n",
       "      <th>Patronus</th>\n",
       "      <th>Species</th>\n",
       "      <th>Blood status</th>\n",
       "      <th>Hair colour</th>\n",
       "      <th>Eye colour</th>\n",
       "      <th>Loyalty</th>\n",
       "      <th>Skills</th>\n",
       "      <th>Birth</th>\n",
       "      <th>Death</th>\n",
       "    </tr>\n",
       "  </thead>\n",
       "  <tbody>\n",
       "    <tr>\n",
       "      <th>0</th>\n",
       "      <td>0</td>\n",
       "      <td>Regulus Arcturus Black</td>\n",
       "      <td>Brother of Sirius. Used to be a Death Eater bu...</td>\n",
       "      <td>Male</td>\n",
       "      <td>NaN</td>\n",
       "      <td>Slytherin</td>\n",
       "      <td>Unknown</td>\n",
       "      <td>Non-corporeal</td>\n",
       "      <td>Human</td>\n",
       "      <td>Pure-blood</td>\n",
       "      <td>Black</td>\n",
       "      <td>NaN</td>\n",
       "      <td>NaN</td>\n",
       "      <td>Seeker</td>\n",
       "      <td>1961</td>\n",
       "      <td>1979</td>\n",
       "    </tr>\n",
       "    <tr>\n",
       "      <th>1</th>\n",
       "      <td>1</td>\n",
       "      <td>Sirius Black</td>\n",
       "      <td>Best friend of James Potter and godfather of H...</td>\n",
       "      <td>Male</td>\n",
       "      <td>NaN</td>\n",
       "      <td>Gryffindor</td>\n",
       "      <td>Unknown</td>\n",
       "      <td>Unknown</td>\n",
       "      <td>Human</td>\n",
       "      <td>Pure-blood</td>\n",
       "      <td>Black</td>\n",
       "      <td>Grey</td>\n",
       "      <td>Order of the Phoenix</td>\n",
       "      <td>Animagus| nonverbal magic| Charms</td>\n",
       "      <td>3 November, 1959</td>\n",
       "      <td>18 June, 1996</td>\n",
       "    </tr>\n",
       "    <tr>\n",
       "      <th>2</th>\n",
       "      <td>2</td>\n",
       "      <td>Lavender Brown</td>\n",
       "      <td>Killed by a werewolf. She was a gryffindor stu...</td>\n",
       "      <td>Female</td>\n",
       "      <td>Student</td>\n",
       "      <td>Gryffindor</td>\n",
       "      <td>Unknown</td>\n",
       "      <td>Unknown</td>\n",
       "      <td>Human</td>\n",
       "      <td>Pure-blood</td>\n",
       "      <td>Blond</td>\n",
       "      <td>Blue</td>\n",
       "      <td>Dumbledore's Army |Hogwarts School of Witchcra...</td>\n",
       "      <td>Divination</td>\n",
       "      <td>1 September 1979- 31 August 1980</td>\n",
       "      <td>2 May, 1998</td>\n",
       "    </tr>\n",
       "    <tr>\n",
       "      <th>3</th>\n",
       "      <td>3</td>\n",
       "      <td>Cho Chang</td>\n",
       "      <td>Ravenclaw student who dated Cedric Diggory and...</td>\n",
       "      <td>Female</td>\n",
       "      <td>Student</td>\n",
       "      <td>Ravenclaw</td>\n",
       "      <td>Unknown</td>\n",
       "      <td>Swan</td>\n",
       "      <td>Human</td>\n",
       "      <td>Pure-blood or half-blood</td>\n",
       "      <td>Black</td>\n",
       "      <td>Dark</td>\n",
       "      <td>Dumbledore's Army |Hogwarts School of Witchcra...</td>\n",
       "      <td>Seeker</td>\n",
       "      <td>1 September 1978-31 August 1979</td>\n",
       "      <td>NaN</td>\n",
       "    </tr>\n",
       "    <tr>\n",
       "      <th>4</th>\n",
       "      <td>4</td>\n",
       "      <td>Vincent Crabbe Sr.</td>\n",
       "      <td>Father of Crabbe and death-eater who escaped A...</td>\n",
       "      <td>Male</td>\n",
       "      <td>NaN</td>\n",
       "      <td>Slytherin</td>\n",
       "      <td>Unknown</td>\n",
       "      <td>Unknown</td>\n",
       "      <td>Human</td>\n",
       "      <td>Pure-blood</td>\n",
       "      <td>Dark</td>\n",
       "      <td>Dark</td>\n",
       "      <td>Lord Voldemort  | Death Eaters</td>\n",
       "      <td>NaN</td>\n",
       "      <td>Pre 1964</td>\n",
       "      <td>NaN</td>\n",
       "    </tr>\n",
       "    <tr>\n",
       "      <th>...</th>\n",
       "      <td>...</td>\n",
       "      <td>...</td>\n",
       "      <td>...</td>\n",
       "      <td>...</td>\n",
       "      <td>...</td>\n",
       "      <td>...</td>\n",
       "      <td>...</td>\n",
       "      <td>...</td>\n",
       "      <td>...</td>\n",
       "      <td>...</td>\n",
       "      <td>...</td>\n",
       "      <td>...</td>\n",
       "      <td>...</td>\n",
       "      <td>...</td>\n",
       "      <td>...</td>\n",
       "      <td>...</td>\n",
       "    </tr>\n",
       "    <tr>\n",
       "      <th>60</th>\n",
       "      <td>60</td>\n",
       "      <td>Fluffy</td>\n",
       "      <td>Three-headed dog belonging to Rubeus Hagrid.</td>\n",
       "      <td>Male</td>\n",
       "      <td>NaN</td>\n",
       "      <td>NaN</td>\n",
       "      <td>NaN</td>\n",
       "      <td>NaN</td>\n",
       "      <td>Animal</td>\n",
       "      <td>NaN</td>\n",
       "      <td>NaN</td>\n",
       "      <td>NaN</td>\n",
       "      <td>NaN</td>\n",
       "      <td>NaN</td>\n",
       "      <td>NaN</td>\n",
       "      <td>NaN</td>\n",
       "    </tr>\n",
       "    <tr>\n",
       "      <th>61</th>\n",
       "      <td>61</td>\n",
       "      <td>Hedwig</td>\n",
       "      <td>Harry's owl.</td>\n",
       "      <td>Female</td>\n",
       "      <td>NaN</td>\n",
       "      <td>NaN</td>\n",
       "      <td>NaN</td>\n",
       "      <td>NaN</td>\n",
       "      <td>Animal</td>\n",
       "      <td>NaN</td>\n",
       "      <td>NaN</td>\n",
       "      <td>NaN</td>\n",
       "      <td>NaN</td>\n",
       "      <td>NaN</td>\n",
       "      <td>NaN</td>\n",
       "      <td>NaN</td>\n",
       "    </tr>\n",
       "    <tr>\n",
       "      <th>62</th>\n",
       "      <td>62</td>\n",
       "      <td>Moaning Myrtle</td>\n",
       "      <td>Ghost at Hogwards.</td>\n",
       "      <td>Female</td>\n",
       "      <td>Student</td>\n",
       "      <td>Ravenclaw</td>\n",
       "      <td>Unknown</td>\n",
       "      <td>Unknown</td>\n",
       "      <td>Ghost</td>\n",
       "      <td>Muggle-born</td>\n",
       "      <td>NaN</td>\n",
       "      <td>NaN</td>\n",
       "      <td>NaN</td>\n",
       "      <td>NaN</td>\n",
       "      <td>14 June 1928 -13 June 1929</td>\n",
       "      <td>13 June, 1943</td>\n",
       "    </tr>\n",
       "    <tr>\n",
       "      <th>63</th>\n",
       "      <td>63</td>\n",
       "      <td>Aragog</td>\n",
       "      <td>Acromantula belonging to Rubeus Hagrid.</td>\n",
       "      <td>Male</td>\n",
       "      <td>NaN</td>\n",
       "      <td>NaN</td>\n",
       "      <td>NaN</td>\n",
       "      <td>NaN</td>\n",
       "      <td>Animal</td>\n",
       "      <td>NaN</td>\n",
       "      <td>NaN</td>\n",
       "      <td>NaN</td>\n",
       "      <td>NaN</td>\n",
       "      <td>NaN</td>\n",
       "      <td>NaN</td>\n",
       "      <td>NaN</td>\n",
       "    </tr>\n",
       "    <tr>\n",
       "      <th>64</th>\n",
       "      <td>64</td>\n",
       "      <td>Grawp</td>\n",
       "      <td>Giant-half brother of Hagrid.</td>\n",
       "      <td>Male</td>\n",
       "      <td>NaN</td>\n",
       "      <td>NaN</td>\n",
       "      <td>NaN</td>\n",
       "      <td>NaN</td>\n",
       "      <td>NaN</td>\n",
       "      <td>Muggle</td>\n",
       "      <td>NaN</td>\n",
       "      <td>NaN</td>\n",
       "      <td>NaN</td>\n",
       "      <td>NaN</td>\n",
       "      <td>NaN</td>\n",
       "      <td>NaN</td>\n",
       "    </tr>\n",
       "  </tbody>\n",
       "</table>\n",
       "<p>65 rows × 16 columns</p>\n",
       "</div>"
      ],
      "text/plain": [
       "    id                    name  \\\n",
       "0    0  Regulus Arcturus Black   \n",
       "1    1            Sirius Black   \n",
       "2    2          Lavender Brown   \n",
       "3    3               Cho Chang   \n",
       "4    4      Vincent Crabbe Sr.   \n",
       "..  ..                     ...   \n",
       "60  60                  Fluffy   \n",
       "61  61                  Hedwig   \n",
       "62  62          Moaning Myrtle   \n",
       "63  63                  Aragog   \n",
       "64  64                   Grawp   \n",
       "\n",
       "                                                  bio  Gender      Job  \\\n",
       "0   Brother of Sirius. Used to be a Death Eater bu...    Male      NaN   \n",
       "1   Best friend of James Potter and godfather of H...    Male      NaN   \n",
       "2   Killed by a werewolf. She was a gryffindor stu...  Female  Student   \n",
       "3   Ravenclaw student who dated Cedric Diggory and...  Female  Student   \n",
       "4   Father of Crabbe and death-eater who escaped A...    Male      NaN   \n",
       "..                                                ...     ...      ...   \n",
       "60       Three-headed dog belonging to Rubeus Hagrid.    Male      NaN   \n",
       "61                                       Harry's owl.  Female      NaN   \n",
       "62                                 Ghost at Hogwards.  Female  Student   \n",
       "63            Acromantula belonging to Rubeus Hagrid.    Male      NaN   \n",
       "64                      Giant-half brother of Hagrid.    Male      NaN   \n",
       "\n",
       "         House     Wand       Patronus Species              Blood status  \\\n",
       "0    Slytherin  Unknown  Non-corporeal   Human                Pure-blood   \n",
       "1   Gryffindor  Unknown        Unknown   Human                Pure-blood   \n",
       "2   Gryffindor  Unknown        Unknown   Human                Pure-blood   \n",
       "3    Ravenclaw  Unknown           Swan   Human  Pure-blood or half-blood   \n",
       "4    Slytherin  Unknown        Unknown   Human                Pure-blood   \n",
       "..         ...      ...            ...     ...                       ...   \n",
       "60         NaN      NaN            NaN  Animal                       NaN   \n",
       "61         NaN      NaN            NaN  Animal                       NaN   \n",
       "62   Ravenclaw  Unknown        Unknown   Ghost               Muggle-born   \n",
       "63         NaN      NaN            NaN  Animal                       NaN   \n",
       "64         NaN      NaN            NaN     NaN                    Muggle   \n",
       "\n",
       "   Hair colour Eye colour                                            Loyalty  \\\n",
       "0        Black        NaN                                                NaN   \n",
       "1        Black       Grey                               Order of the Phoenix   \n",
       "2        Blond       Blue  Dumbledore's Army |Hogwarts School of Witchcra...   \n",
       "3        Black       Dark  Dumbledore's Army |Hogwarts School of Witchcra...   \n",
       "4         Dark       Dark                     Lord Voldemort  | Death Eaters   \n",
       "..         ...        ...                                                ...   \n",
       "60         NaN        NaN                                                NaN   \n",
       "61         NaN        NaN                                                NaN   \n",
       "62         NaN        NaN                                                NaN   \n",
       "63         NaN        NaN                                                NaN   \n",
       "64         NaN        NaN                                                NaN   \n",
       "\n",
       "                               Skills                              Birth  \\\n",
       "0                              Seeker                               1961   \n",
       "1   Animagus| nonverbal magic| Charms                   3 November, 1959   \n",
       "2                          Divination   1 September 1979- 31 August 1980   \n",
       "3                              Seeker    1 September 1978-31 August 1979   \n",
       "4                                 NaN                           Pre 1964   \n",
       "..                                ...                                ...   \n",
       "60                                NaN                                NaN   \n",
       "61                                NaN                                NaN   \n",
       "62                                NaN         14 June 1928 -13 June 1929   \n",
       "63                                NaN                                NaN   \n",
       "64                                NaN                                NaN   \n",
       "\n",
       "            Death  \n",
       "0            1979  \n",
       "1   18 June, 1996  \n",
       "2     2 May, 1998  \n",
       "3             NaN  \n",
       "4             NaN  \n",
       "..            ...  \n",
       "60            NaN  \n",
       "61            NaN  \n",
       "62  13 June, 1943  \n",
       "63            NaN  \n",
       "64            NaN  \n",
       "\n",
       "[65 rows x 16 columns]"
      ]
     },
     "execution_count": 4,
     "metadata": {},
     "output_type": "execute_result"
    }
   ],
   "source": [
    "characters = pd.read_csv('characters.csv', encoding = 'latin')\n",
    "characters.name.isnull().values.any()\n",
    "characters"
   ]
  },
  {
   "cell_type": "code",
   "execution_count": 5,
   "metadata": {},
   "outputs": [
    {
     "data": {
      "text/html": [
       "<div>\n",
       "<style scoped>\n",
       "    .dataframe tbody tr th:only-of-type {\n",
       "        vertical-align: middle;\n",
       "    }\n",
       "\n",
       "    .dataframe tbody tr th {\n",
       "        vertical-align: top;\n",
       "    }\n",
       "\n",
       "    .dataframe thead th {\n",
       "        text-align: right;\n",
       "    }\n",
       "</style>\n",
       "<table border=\"1\" class=\"dataframe\">\n",
       "  <thead>\n",
       "    <tr style=\"text-align: right;\">\n",
       "      <th></th>\n",
       "      <th>source</th>\n",
       "      <th>target</th>\n",
       "    </tr>\n",
       "  </thead>\n",
       "  <tbody>\n",
       "    <tr>\n",
       "      <th>0</th>\n",
       "      <td>0</td>\n",
       "      <td>1</td>\n",
       "    </tr>\n",
       "    <tr>\n",
       "      <th>1</th>\n",
       "      <td>0</td>\n",
       "      <td>25</td>\n",
       "    </tr>\n",
       "    <tr>\n",
       "      <th>2</th>\n",
       "      <td>0</td>\n",
       "      <td>45</td>\n",
       "    </tr>\n",
       "    <tr>\n",
       "      <th>3</th>\n",
       "      <td>1</td>\n",
       "      <td>0</td>\n",
       "    </tr>\n",
       "    <tr>\n",
       "      <th>4</th>\n",
       "      <td>1</td>\n",
       "      <td>11</td>\n",
       "    </tr>\n",
       "    <tr>\n",
       "      <th>...</th>\n",
       "      <td>...</td>\n",
       "      <td>...</td>\n",
       "    </tr>\n",
       "    <tr>\n",
       "      <th>508</th>\n",
       "      <td>63</td>\n",
       "      <td>58</td>\n",
       "    </tr>\n",
       "    <tr>\n",
       "      <th>509</th>\n",
       "      <td>64</td>\n",
       "      <td>21</td>\n",
       "    </tr>\n",
       "    <tr>\n",
       "      <th>510</th>\n",
       "      <td>64</td>\n",
       "      <td>22</td>\n",
       "    </tr>\n",
       "    <tr>\n",
       "      <th>511</th>\n",
       "      <td>64</td>\n",
       "      <td>39</td>\n",
       "    </tr>\n",
       "    <tr>\n",
       "      <th>512</th>\n",
       "      <td>63</td>\n",
       "      <td>58</td>\n",
       "    </tr>\n",
       "  </tbody>\n",
       "</table>\n",
       "<p>513 rows × 2 columns</p>\n",
       "</div>"
      ],
      "text/plain": [
       "     source  target\n",
       "0         0       1\n",
       "1         0      25\n",
       "2         0      45\n",
       "3         1       0\n",
       "4         1      11\n",
       "..      ...     ...\n",
       "508      63      58\n",
       "509      64      21\n",
       "510      64      22\n",
       "511      64      39\n",
       "512      63      58\n",
       "\n",
       "[513 rows x 2 columns]"
      ]
     },
     "execution_count": 5,
     "metadata": {},
     "output_type": "execute_result"
    }
   ],
   "source": [
    "relations = pd.read_csv('relations.csv')\n",
    "relations"
   ]
  },
  {
   "cell_type": "code",
   "execution_count": 7,
   "metadata": {},
   "outputs": [
    {
     "data": {
      "text/html": [
       "<div>\n",
       "<style scoped>\n",
       "    .dataframe tbody tr th:only-of-type {\n",
       "        vertical-align: middle;\n",
       "    }\n",
       "\n",
       "    .dataframe tbody tr th {\n",
       "        vertical-align: top;\n",
       "    }\n",
       "\n",
       "    .dataframe thead th {\n",
       "        text-align: right;\n",
       "    }\n",
       "</style>\n",
       "<table border=\"1\" class=\"dataframe\">\n",
       "  <thead>\n",
       "    <tr style=\"text-align: right;\">\n",
       "      <th></th>\n",
       "      <th>id</th>\n",
       "      <th>target</th>\n",
       "    </tr>\n",
       "  </thead>\n",
       "  <tbody>\n",
       "    <tr>\n",
       "      <th>0</th>\n",
       "      <td>0</td>\n",
       "      <td>1</td>\n",
       "    </tr>\n",
       "    <tr>\n",
       "      <th>1</th>\n",
       "      <td>0</td>\n",
       "      <td>25</td>\n",
       "    </tr>\n",
       "    <tr>\n",
       "      <th>2</th>\n",
       "      <td>0</td>\n",
       "      <td>45</td>\n",
       "    </tr>\n",
       "    <tr>\n",
       "      <th>3</th>\n",
       "      <td>1</td>\n",
       "      <td>0</td>\n",
       "    </tr>\n",
       "    <tr>\n",
       "      <th>4</th>\n",
       "      <td>1</td>\n",
       "      <td>11</td>\n",
       "    </tr>\n",
       "  </tbody>\n",
       "</table>\n",
       "</div>"
      ],
      "text/plain": [
       "   id  target\n",
       "0   0       1\n",
       "1   0      25\n",
       "2   0      45\n",
       "3   1       0\n",
       "4   1      11"
      ]
     },
     "execution_count": 7,
     "metadata": {},
     "output_type": "execute_result"
    }
   ],
   "source": [
    "# I merge these two dataframe into one\n",
    "# First, I change the 'source' column into 'id' column\n",
    "relations= relations.rename(columns={'source':'id'})\n",
    "relations.head()"
   ]
  },
  {
   "cell_type": "code",
   "execution_count": null,
   "metadata": {},
   "outputs": [],
   "source": [
    "combi = pd.merge(relations, characters, left_on=\"id\", right_on=\"id\")\n",
    "combi"
   ]
  },
  {
   "cell_type": "code",
   "execution_count": null,
   "metadata": {},
   "outputs": [],
   "source": [
    "#Becase the dataset relation has a source with multiple  target, the duplicates will not be removed in this situation\n",
    "# extracted the most related columns in the dataframe\n",
    "harry_potter=combi[[ 'id','name', 'bio', 'House', 'target']]\n",
    "harry_potter"
   ]
  },
  {
   "cell_type": "code",
   "execution_count": null,
   "metadata": {},
   "outputs": [],
   "source": [
    "# We can convert the dataframe into a network with weight and book information stored\n",
    "combi_net = nx.from_pandas_edgelist(combi, 'id', 'target', ['name', 'bio'])\n",
    "combi_net.edges(data = True)"
   ]
  },
  {
   "cell_type": "code",
   "execution_count": null,
   "metadata": {},
   "outputs": [],
   "source": [
    "# Visualizing with pyvis\n",
    "combi_vis = pyvis.network.Network()\n",
    "combi_vis.from_nx(combi_net)\n",
    "combi_vis.show('combi_vis.html')"
   ]
  },
  {
   "cell_type": "code",
   "execution_count": null,
   "metadata": {},
   "outputs": [],
   "source": [
    "list(combi_net.nodes())"
   ]
  },
  {
   "cell_type": "code",
   "execution_count": null,
   "metadata": {},
   "outputs": [],
   "source": [
    "# Centrality\n",
    "deg = nx.degree_centrality(combi_net)\n",
    "closeness = nx.closeness_centrality(combi_net)\n",
    "betweenness = nx.betweenness_centrality(combi_net)\n",
    "eigenvector = nx.eigenvector_centrality(combi_net)\n",
    "pagerank = nx.pagerank(combi_net)\n",
    "\n",
    "centrality_combi_net = pd.DataFrame(index = combi_net.nodes())\n",
    "centrality_combi_net['degree_centrality'] = deg.values()\n",
    "centrality_combi_net['closeness_centrality'] = closeness.values()\n",
    "centrality_combi_net['betweenness_centrality'] = betweenness.values()\n",
    "centrality_combi_net['eigenvector_centrality'] = eigenvector.values()\n",
    "centrality_combi_net['pagerank'] = pagerank.values()\n",
    "\n",
    "centrality_combi_net"
   ]
  },
  {
   "cell_type": "code",
   "execution_count": null,
   "metadata": {},
   "outputs": [],
   "source": [
    "# Top 6 based on each centrality\n",
    "for col in centrality_combi_net.columns:\n",
    "    result = list(centrality_combi_net.sort_values(by = col, ascending = False).index[:6])\n",
    "    print('The top 6 characters based on', col, 'in the Harry Potter movie are', result)"
   ]
  },
  {
   "cell_type": "code",
   "execution_count": null,
   "metadata": {},
   "outputs": [],
   "source": [
    "# Correlation\n",
    "centrality_combi_net.corr()"
   ]
  },
  {
   "cell_type": "code",
   "execution_count": null,
   "metadata": {},
   "outputs": [],
   "source": [
    "#Which methods are the most similar to each other in terms of the most central characters and in terms of correlation?\n",
    "\n",
    "print(' According to the result, the Degree centrality and pagerank are the most similar to each other')\n",
    "print('Besides, the Closeness centrality and Pagerank is also similar to each other')"
   ]
  },
  {
   "cell_type": "code",
   "execution_count": null,
   "metadata": {},
   "outputs": [],
   "source": []
  },
  {
   "cell_type": "markdown",
   "metadata": {},
   "source": [
    "# Question 3:"
   ]
  },
  {
   "cell_type": "code",
   "execution_count": null,
   "metadata": {},
   "outputs": [],
   "source": [
    "import numpy as np\n",
    "import pandas as pd\n",
    "import matplotlib.pyplot as plt\n",
    "import seaborn as sns\n",
    "import networkx as nx\n",
    "import pyvis\n",
    "\n"
   ]
  },
  {
   "cell_type": "code",
   "execution_count": null,
   "metadata": {},
   "outputs": [],
   "source": [
    "#reload the dataset with another name\n",
    "Harry_community_Combi = pd.merge(characters, relations, left_on=\"id\", right_on=\"id\")\n",
    "Harry_community_Combi"
   ]
  },
  {
   "cell_type": "code",
   "execution_count": null,
   "metadata": {},
   "outputs": [],
   "source": [
    "#Beacuse id is the interger type, I will change it to the string\n",
    "Harry_community_Combi['id']=Harry_community_Combi['id'].astype('str')\n",
    "Harry_community_Combi.info()"
   ]
  },
  {
   "cell_type": "code",
   "execution_count": null,
   "metadata": {},
   "outputs": [],
   "source": [
    "# As we can see, from the columns Job, there are some NAN values\n",
    "Harry_community_Combi['Job'].unique()\n"
   ]
  },
  {
   "cell_type": "code",
   "execution_count": null,
   "metadata": {},
   "outputs": [],
   "source": [
    "# Similarly, I will check the null values in column House\n",
    "Harry_community_Combi['House'].unique()\n",
    "Harry_community_Combi['House'].isnull()"
   ]
  },
  {
   "cell_type": "code",
   "execution_count": null,
   "metadata": {},
   "outputs": [],
   "source": [
    "# With the 'Unknown' value because one nodes may have multiple targets\n",
    "Harry_community_Combi=Harry_community_Combi.fillna('Unknown')\n",
    "Harry_community_Combi"
   ]
  },
  {
   "cell_type": "code",
   "execution_count": null,
   "metadata": {},
   "outputs": [],
   "source": [
    "# Turn the harry_community into pandas edgelist\n",
    "Harry_community_net=nx.from_pandas_edgelist(Harry_community_Combi, 'id', 'target', ['name', 'bio', 'Job'])\n",
    "#checking the edges\n",
    "Harry_community_net.edges(data=True)"
   ]
  },
  {
   "cell_type": "code",
   "execution_count": null,
   "metadata": {},
   "outputs": [],
   "source": [
    "len(Harry_community_net.nodes)"
   ]
  },
  {
   "cell_type": "code",
   "execution_count": null,
   "metadata": {},
   "outputs": [],
   "source": []
  },
  {
   "cell_type": "code",
   "execution_count": null,
   "metadata": {},
   "outputs": [],
   "source": [
    "#Running community detection\n",
    "harry_comm_detection = nx_comm.girvan_newman(Harry_community_net)\n",
    "list(harry_comm_detection)"
   ]
  },
  {
   "cell_type": "code",
   "execution_count": null,
   "metadata": {},
   "outputs": [],
   "source": [
    "# I will create the run the community detection\n",
    "harry_node_selection = list(Harry_community_net.nodes())[:126]\n",
    "#harry_net_selection = Harry_community_net.subgraph(harry_node_selection)\n",
    "#harry_net_selection_community = nx_comm.girvan_newman(harry_net_selection)\n",
    "harry_net_selection_community = nx_comm.girvan_newman(Harry_community_net)\n",
    "comm_list = list(harry_net_selection_community)\n",
    "\n"
   ]
  },
  {
   "cell_type": "code",
   "execution_count": null,
   "metadata": {},
   "outputs": [],
   "source": [
    "\n",
    "modularity_list = []\n",
    "\n",
    "for comm in comm_list:\n",
    "    mod = nx_comm.modularity(harry_net_selection, comm)\n",
    "    modularity_list.append(mod)\n",
    "    print('The modularity with ', len(comm), 'subcommunities is', mod)"
   ]
  },
  {
   "cell_type": "code",
   "execution_count": null,
   "metadata": {},
   "outputs": [],
   "source": [
    "#From the list, we can see with 51 communities we have the highest modularity\n",
    "plt.plot(modularity_list)"
   ]
  },
  {
   "cell_type": "markdown",
   "metadata": {},
   "source": [
    "Compare the resulting communities and attempt to characterize the difference between communities by focusing on the information in the characters.csv file."
   ]
  },
  {
   "cell_type": "code",
   "execution_count": null,
   "metadata": {},
   "outputs": [],
   "source": [
    "\n",
    "com_51 = comm_list[51]\n",
    "memb_community = []\n",
    "for node in harry_net_selection:\n",
    "    for i in range(len(com_51)):\n",
    "        if node in com_51[i]:\n",
    "            memb_community.append(i)\n",
    "print(memb_community)"
   ]
  },
  {
   "cell_type": "code",
   "execution_count": null,
   "metadata": {},
   "outputs": [],
   "source": [
    "#Load back the dataset harry_community which includes the characters.csv\n",
    "harry_character = Harry_community_Combi.head(126)\n",
    "harry_character"
   ]
  },
  {
   "cell_type": "code",
   "execution_count": null,
   "metadata": {},
   "outputs": [],
   "source": [
    "# create the membership columns\n",
    "harry_character['Membership'] = community_member\n",
    "harry_character[['id', 'target', 'name', 'House', 'Membership']]"
   ]
  },
  {
   "cell_type": "code",
   "execution_count": null,
   "metadata": {},
   "outputs": [],
   "source": [
    "membership_unique= harry_potter['id'].groupby(harry_potter['membership']).unique()\n",
    "membership_unique"
   ]
  },
  {
   "cell_type": "code",
   "execution_count": null,
   "metadata": {},
   "outputs": [],
   "source": [
    "# Load back the top 6 based on page rank\n",
    "centrality_combi_net.sort_values(by='page rank', ascending=False).index[:6]\n",
    "\n",
    "# As we can see, the top 6 in page ranks belongs to nodes: 39, 45, 21, 11, 1"
   ]
  },
  {
   "cell_type": "code",
   "execution_count": null,
   "metadata": {},
   "outputs": [],
   "source": [
    "membership_unique= harry_potter['id'].groupby(harry_potter['membership']).unique()\n",
    "membership_unique\n",
    "# As we can see, node 1 & 11 are the important characters that appears either alone or together in many communities/membership"
   ]
  },
  {
   "cell_type": "code",
   "execution_count": null,
   "metadata": {},
   "outputs": [],
   "source": [
    "harry_potter[harry_potter['id']=='1']\n",
    "# So Sirius Black is one of the most important character so far"
   ]
  },
  {
   "cell_type": "code",
   "execution_count": null,
   "metadata": {},
   "outputs": [],
   "source": [
    "harry_potter[harry_potter['id']=='11']\n",
    "#Similarly Albus Dumbledore is one of the most important character so far"
   ]
  },
  {
   "cell_type": "code",
   "execution_count": null,
   "metadata": {},
   "outputs": [],
   "source": []
  },
  {
   "cell_type": "code",
   "execution_count": null,
   "metadata": {},
   "outputs": [],
   "source": []
  },
  {
   "cell_type": "code",
   "execution_count": null,
   "metadata": {},
   "outputs": [],
   "source": []
  }
 ],
 "metadata": {
  "kernelspec": {
   "display_name": "Python 3",
   "language": "python",
   "name": "python3"
  },
  "language_info": {
   "codemirror_mode": {
    "name": "ipython",
    "version": 3
   },
   "file_extension": ".py",
   "mimetype": "text/x-python",
   "name": "python",
   "nbconvert_exporter": "python",
   "pygments_lexer": "ipython3",
   "version": "3.8.3"
  }
 },
 "nbformat": 4,
 "nbformat_minor": 4
}
